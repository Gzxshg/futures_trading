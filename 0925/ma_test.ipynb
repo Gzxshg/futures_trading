{
 "cells": [
  {
   "cell_type": "code",
   "execution_count": 6,
   "metadata": {},
   "outputs": [
    {
     "name": "stdout",
     "output_type": "stream",
     "text": [
      "    INFO - 您可以访问 http://127.0.0.1:53404 查看策略绘制出的 K 线图形。\n"
     ]
    }
   ],
   "source": [
    "import pandas as pd\n",
    "import numpy as np\n",
    "\n",
    "from datetime import datetime,date\n",
    "from tqsdk import TqApi,TqAuth,TqBacktest,TargetPosTask\n",
    "\n",
    "api=TqApi(web_gui=True,backtest=TqBacktest(start_dt=date(2018,5,1),end_dt=date(2018,10,1)),auth=TqAuth(\"18049858285\",\"18049858285wk\"))\n",
    "klines = api.get_kline_serial(\"DCE.m1901\", 5 * 60, data_length=15)\n",
    "# 创建 m1901 的目标持仓 task，该 task 负责调整 m1901 的仓位到指定的目标仓位\n",
    "target_pos = TargetPosTask(api, \"DCE.m1901\")\n",
    "\n",
    "while True:\n",
    "    api.wait_update()\n",
    "    if api.is_changing(klines):\n",
    "        ma = sum(klines.close.iloc[-15:]) / 15\n",
    "        print(\"最新价\", klines.close.iloc[-1], \"MA\", ma)\n",
    "        if klines.close.iloc[-1] > ma:\n",
    "            print(\"最新价大于MA: 目标多头5手\")\n",
    "            # 设置目标持仓为多头5手\n",
    "            target_pos.set_target_volume(5)\n",
    "        elif klines.close.iloc[-1] < ma:\n",
    "            print(\"最新价小于MA: 目标空仓\")\n",
    "            # 设置目标持仓为空仓\n",
    "            target_pos.set_target_volume(0)"
   ]
  }
 ],
 "metadata": {
  "kernelspec": {
   "display_name": "Python 3",
   "language": "python",
   "name": "python3"
  },
  "language_info": {
   "codemirror_mode": {
    "name": "ipython",
    "version": 3
   },
   "file_extension": ".py",
   "mimetype": "text/x-python",
   "name": "python",
   "nbconvert_exporter": "python",
   "pygments_lexer": "ipython3",
   "version": "3.12.6"
  }
 },
 "nbformat": 4,
 "nbformat_minor": 2
}
