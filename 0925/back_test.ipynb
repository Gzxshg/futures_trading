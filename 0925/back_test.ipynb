{
 "cells": [
  {
   "cell_type": "code",
   "execution_count": 4,
   "metadata": {},
   "outputs": [],
   "source": [
    "import pandas as pd\n",
    "import numpy as np\n",
    "import os\n",
    "import time\n",
    "import talib as ta\n",
    "\n",
    "from datetime import datetime,date,timedelta\n",
    "from tqsdk import TqApi,TqAuth,TqBacktest,TqSim,TargetPosTask\n",
    "from sklearn.cluster import KMeans\n",
    "from kneed import KneeLocator"
   ]
  },
  {
   "cell_type": "code",
   "execution_count": 5,
   "metadata": {},
   "outputs": [
    {
     "name": "stdout",
     "output_type": "stream",
     "text": [
      "    INFO - 您可以访问 http://127.0.0.1:60410 查看策略绘制出的 K 线图形。\n"
     ]
    }
   ],
   "source": [
    "acc=TqSim()\n",
    "api=TqApi(web_gui=True,backtest=TqBacktest(start_dt=date(2024,3,1),end_dt=date(2024,9,20)),auth=TqAuth(\"18049858285\",\"18049858285wk\"))"
   ]
  },
  {
   "cell_type": "code",
   "execution_count": 6,
   "metadata": {},
   "outputs": [],
   "source": [
    "sub_dir=pd.read_csv(\"D:/Code/0911/subjective_prediction.csv\")\n",
    "win_shut_str=''\n",
    "time_window=timedelta(days=5)\n",
    "on_the_window=False"
   ]
  },
  {
   "cell_type": "code",
   "execution_count": 7,
   "metadata": {},
   "outputs": [
    {
     "data": {
      "text/html": [
       "<div>\n",
       "<style scoped>\n",
       "    .dataframe tbody tr th:only-of-type {\n",
       "        vertical-align: middle;\n",
       "    }\n",
       "\n",
       "    .dataframe tbody tr th {\n",
       "        vertical-align: top;\n",
       "    }\n",
       "\n",
       "    .dataframe thead th {\n",
       "        text-align: right;\n",
       "    }\n",
       "</style>\n",
       "<table border=\"1\" class=\"dataframe\">\n",
       "  <thead>\n",
       "    <tr style=\"text-align: right;\">\n",
       "      <th></th>\n",
       "      <th>Unnamed: 0</th>\n",
       "      <th>order_book_id</th>\n",
       "      <th>datetime</th>\n",
       "      <th>direction</th>\n",
       "    </tr>\n",
       "  </thead>\n",
       "  <tbody>\n",
       "    <tr>\n",
       "      <th>0</th>\n",
       "      <td>0</td>\n",
       "      <td>rb2501</td>\n",
       "      <td>2024-04-09</td>\n",
       "      <td>-1</td>\n",
       "    </tr>\n",
       "    <tr>\n",
       "      <th>1</th>\n",
       "      <td>1</td>\n",
       "      <td>rb2501</td>\n",
       "      <td>2024-04-24</td>\n",
       "      <td>1</td>\n",
       "    </tr>\n",
       "    <tr>\n",
       "      <th>2</th>\n",
       "      <td>2</td>\n",
       "      <td>rb2501</td>\n",
       "      <td>2024-05-15</td>\n",
       "      <td>1</td>\n",
       "    </tr>\n",
       "    <tr>\n",
       "      <th>3</th>\n",
       "      <td>3</td>\n",
       "      <td>rb2501</td>\n",
       "      <td>2024-05-29</td>\n",
       "      <td>1</td>\n",
       "    </tr>\n",
       "    <tr>\n",
       "      <th>4</th>\n",
       "      <td>4</td>\n",
       "      <td>rb2501</td>\n",
       "      <td>2024-06-07</td>\n",
       "      <td>1</td>\n",
       "    </tr>\n",
       "    <tr>\n",
       "      <th>5</th>\n",
       "      <td>5</td>\n",
       "      <td>rb2501</td>\n",
       "      <td>2024-06-19</td>\n",
       "      <td>-1</td>\n",
       "    </tr>\n",
       "    <tr>\n",
       "      <th>6</th>\n",
       "      <td>6</td>\n",
       "      <td>rb2501</td>\n",
       "      <td>2024-07-16</td>\n",
       "      <td>-1</td>\n",
       "    </tr>\n",
       "    <tr>\n",
       "      <th>7</th>\n",
       "      <td>7</td>\n",
       "      <td>rb2501</td>\n",
       "      <td>2024-07-31</td>\n",
       "      <td>-1</td>\n",
       "    </tr>\n",
       "  </tbody>\n",
       "</table>\n",
       "</div>"
      ],
      "text/plain": [
       "   Unnamed: 0 order_book_id    datetime  direction\n",
       "0           0        rb2501  2024-04-09         -1\n",
       "1           1        rb2501  2024-04-24          1\n",
       "2           2        rb2501  2024-05-15          1\n",
       "3           3        rb2501  2024-05-29          1\n",
       "4           4        rb2501  2024-06-07          1\n",
       "5           5        rb2501  2024-06-19         -1\n",
       "6           6        rb2501  2024-07-16         -1\n",
       "7           7        rb2501  2024-07-31         -1"
      ]
     },
     "execution_count": 7,
     "metadata": {},
     "output_type": "execute_result"
    }
   ],
   "source": [
    "sub_dir"
   ]
  },
  {
   "cell_type": "code",
   "execution_count": 8,
   "metadata": {},
   "outputs": [],
   "source": [
    "open_condition=False\n",
    "long_condition=False\n",
    "short_condition=False\n",
    "close_condition1=False\n",
    "close_long_condition=False\n",
    "close_short_condition=False\n",
    "hold_long_pos=False\n",
    "hold_short_pos=False\n",
    "break_up=False\n",
    "break_down=False"
   ]
  },
  {
   "cell_type": "code",
   "execution_count": 9,
   "metadata": {},
   "outputs": [],
   "source": [
    "km_upline=0\n",
    "km_dnline=1000000\n",
    "sub_chance=0\n",
    "direction=0"
   ]
  },
  {
   "cell_type": "code",
   "execution_count": 21,
   "metadata": {},
   "outputs": [
    {
     "data": {
      "text/plain": [
       "<tqsdk.entity.Entity object at 0x000001E7EE268860>, D({})"
      ]
     },
     "execution_count": 21,
     "metadata": {},
     "output_type": "execute_result"
    }
   ],
   "source": [
    "pos=api.get_position()\n",
    "pos"
   ]
  },
  {
   "cell_type": "code",
   "execution_count": 28,
   "metadata": {},
   "outputs": [],
   "source": [
    "d_klines=api.get_kline_serial(\"SHFE.rb2501\",86400)"
   ]
  },
  {
   "cell_type": "code",
   "execution_count": 30,
   "metadata": {},
   "outputs": [
    {
     "ename": "SyntaxError",
     "evalue": "'return' outside function (420534836.py, line 9)",
     "output_type": "error",
     "traceback": [
      "\u001b[1;36m  Cell \u001b[1;32mIn[30], line 9\u001b[1;36m\u001b[0m\n\u001b[1;33m    return\u001b[0m\n\u001b[1;37m    ^\u001b[0m\n\u001b[1;31mSyntaxError\u001b[0m\u001b[1;31m:\u001b[0m 'return' outside function\n"
     ]
    }
   ],
   "source": [
    "while True:\n",
    "    api.wait_update()\n",
    "    if api.is_changing(d_klines.iloc[-1],\"close\"):\n",
    "        d_close=d_klines['close']\n",
    "        d_open=d_klines['open']\n",
    "        d_high=d_klines['high']\n",
    "        d_low=d_klines['low']\n",
    "        if len(d_close) < 15:\n",
    "            return"
   ]
  }
 ],
 "metadata": {
  "kernelspec": {
   "display_name": "Python 3",
   "language": "python",
   "name": "python3"
  },
  "language_info": {
   "codemirror_mode": {
    "name": "ipython",
    "version": 3
   },
   "file_extension": ".py",
   "mimetype": "text/x-python",
   "name": "python",
   "nbconvert_exporter": "python",
   "pygments_lexer": "ipython3",
   "version": "3.12.6"
  }
 },
 "nbformat": 4,
 "nbformat_minor": 2
}
