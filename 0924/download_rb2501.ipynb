{
 "cells": [
  {
   "cell_type": "code",
   "execution_count": 9,
   "metadata": {},
   "outputs": [
    {
     "name": "stdout",
     "output_type": "stream",
     "text": [
      "2024-09-24 11:32:51 -     INFO - 您可以访问 http://127.0.0.1:56193 查看策略绘制出的 K 线图形。\n"
     ]
    }
   ],
   "source": [
    "from tqsdk import TqApi,TqAuth\n",
    "api=TqApi(web_gui=True,auth=TqAuth('18049858285','18049858285wk'))"
   ]
  },
  {
   "cell_type": "code",
   "execution_count": 10,
   "metadata": {},
   "outputs": [
    {
     "name": "stdout",
     "output_type": "stream",
     "text": [
      "2024-09-24 11:32:54 -     INFO - 通知 : 与 wss://api.shinnytech.com/t/nfmd/front/mobile 的网络连接已建立\n",
      "2024-09-24 11:32:54 -     INFO - 模拟交易成交记录, 账户: TQSIM\n",
      "2024-09-24 11:32:54 -     INFO - 模拟交易账户资金, 账户: TQSIM\n",
      "2024-09-24 11:32:54 -     INFO - 日期: 2024-09-24, 账户权益: 10000000.00, 可用资金: 10000000.00, 浮动盈亏: 0.00, 持仓盈亏: 0.00, 平仓盈亏: 0.00, 市值: 0.00, 保证金: 0.00, 手续费: 0.00, 风险度: 0.00%\n",
      "2024-09-24 11:32:54 -     INFO - 胜率: 0.00%, 盈亏额比例: inf, 收益率: 0.00%, 年化收益率: 0.00%, 最大回撤: 0.00%, 年化夏普率: inf,年化索提诺比率: -15.8114\n"
     ]
    },
    {
     "name": "stdout",
     "output_type": "stream",
     "text": [
      "progress:  {'rb2501_15min': '0.00%'}\n",
      "progress:  {'rb2501_15min': '0.00%'}\n",
      "progress:  {'rb2501_15min': '0.00%'}\n",
      "progress:  {'rb2501_15min': '0.00%'}\n",
      "progress:  {'rb2501_15min': '0.00%'}\n",
      "progress:  {'rb2501_15min': '91.48%'}\n",
      "progress:  {'rb2501_15min': '100.00%'}\n"
     ]
    }
   ],
   "source": [
    "from datetime import datetime,date\n",
    "from tqsdk.tools import DataDownloader\n",
    "from contextlib import closing\n",
    "\n",
    "download_tasks={}\n",
    "# 下载从 2021-01-01 到 2024-09-24 的 rb主连 15分钟线数据\n",
    "download_tasks[\"rb2501_15min\"]= DataDownloader(api, symbol_list=\"SHFE.rb2501\", dur_sec=15*60,\n",
    "                    start_dt=date(2021, 1, 1), end_dt=date(2024, 9, 24), csv_file_name=\"rb_15min.csv\")\n",
    "with closing(api):\n",
    "    while not all([v.is_finished() for v in download_tasks.values()]):\n",
    "        api.wait_update()\n",
    "        print(\"progress: \", { k:(\"%.2f%%\" % v.get_progress()) for k,v in download_tasks.items() })"
   ]
  },
  {
   "cell_type": "code",
   "execution_count": null,
   "metadata": {},
   "outputs": [],
   "source": []
  }
 ],
 "metadata": {
  "kernelspec": {
   "display_name": "Python 3",
   "language": "python",
   "name": "python3"
  },
  "language_info": {
   "codemirror_mode": {
    "name": "ipython",
    "version": 3
   },
   "file_extension": ".py",
   "mimetype": "text/x-python",
   "name": "python",
   "nbconvert_exporter": "python",
   "pygments_lexer": "ipython3",
   "version": "3.12.6"
  }
 },
 "nbformat": 4,
 "nbformat_minor": 2
}
