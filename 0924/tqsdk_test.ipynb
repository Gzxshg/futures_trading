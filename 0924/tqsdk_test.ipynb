{
 "cells": [
  {
   "cell_type": "code",
   "execution_count": 116,
   "metadata": {},
   "outputs": [
    {
     "name": "stdout",
     "output_type": "stream",
     "text": [
      "2024-09-24 14:37:03 -     INFO - 您可以访问 http://127.0.0.1:60864 查看策略绘制出的 K 线图形。\n"
     ]
    }
   ],
   "source": [
    "import numpy as np\n",
    "import pandas as pd\n",
    "\n",
    "from sklearn.cluster import KMeans\n",
    "from kneed import KneeLocator\n",
    "from tqsdk import TqApi,TqAuth\n",
    "api=TqApi(web_gui=True,auth=TqAuth('18049858285','18049858285wk'))"
   ]
  },
  {
   "cell_type": "code",
   "execution_count": 117,
   "metadata": {},
   "outputs": [
    {
     "name": "stdout",
     "output_type": "stream",
     "text": [
      "2024-09-24 14:37:11 -     INFO - 通知 : 与 wss://api.shinnytech.com/t/nfmd/front/mobile 的网络连接已建立\n",
      "2024-09-24 18:11:11 -  WARNING - 通知 : 与 wss://api.shinnytech.com/t/nfmd/front/mobile 的网络连接断开，请检查客户端及网络是否正常\n",
      "2024-09-24 18:11:11 -  WARNING - 通知 : 开始与 wss://api.shinnytech.com/t/nfmd/front/mobile 的重新建立网络连接\n"
     ]
    }
   ],
   "source": [
    "ticks=api.get_tick_serial(\"SHFE.rb2501\")\n",
    "klines=api.get_kline_serial(\"SHFE.rb2501\",900)"
   ]
  },
  {
   "cell_type": "code",
   "execution_count": 120,
   "metadata": {},
   "outputs": [],
   "source": [
    "def remove_close_numbers(numbers,threshold):\n",
    "    result=[numbers[0]]\n",
    "    for i in range(1,len(numbers)):\n",
    "        if abs(numbers[i]-result[-1]) > threshold:\n",
    "            result.append(numbers[i])\n",
    "    \n",
    "    return result\n",
    "\n",
    "def find_closest_numbers(numbers,target,k):\n",
    "        differences=[abs(number-target) for number in numbers]\n",
    "        sorted_diff=sorted(zip(numbers,differences),key=lambda x:x[1])\n",
    "        closet_numbers=[number for number, _ in sorted_diff[:k]]\n",
    "        return closet_numbers\n",
    "\n",
    "while True:\n",
    "    api.wait_update()\n",
    "    if api.is_changing(klines.iloc[-2],\"close\"):\n",
    "        fifmin_close=klines['close'][-61:-1]\n",
    "        x=np.array(fifmin_close)\n",
    "        sum_of_sq_instances=[]\n",
    "        K=range(1,10)\n",
    "        for k in K:\n",
    "            km=KMeans(n_clusters=k)\n",
    "            km=km.fit(x.reshape(-1,1))\n",
    "            sum_of_sq_instances.append(km.inertia_)\n",
    "        kmeans=KMeans(n_clusters=3).fit(x.reshape(-1,1))\n",
    "        c=kmeans.predict(x.reshape(-1,1))\n",
    "        min_and_max=[]\n",
    "        for i in range(kn.knee):\n",
    "            min_and_max.append([-np.inf,np.inf])\n",
    "        for i in range(len(x)):\n",
    "            cluster=c[i]\n",
    "            if x[i] > min_and_max[cluster][0]:\n",
    "                min_and_max[cluster][0] = x[i]\n",
    "            if x[i] < min_and_max[cluster][1]:\n",
    "                min_and_max[cluster][1] = x[i]\n",
    "        mam_arr=np.sort((np.array(min_and_max)).flatten())\n",
    "        sup=remove_close_numbers(mam_arr,10)\n",
    "        bi_sup=find_closest_numbers(numbers=sup,target=3600,k=2)\n",
    "        km_uplines=bi_sup[0]\n",
    "        km_dnlines=bi_sup[1]\n",
    "        print(km_uplines)\n",
    "        print(km_dnlines)"
   ]
  }
 ],
 "metadata": {
  "kernelspec": {
   "display_name": "Python 3",
   "language": "python",
   "name": "python3"
  },
  "language_info": {
   "codemirror_mode": {
    "name": "ipython",
    "version": 3
   },
   "file_extension": ".py",
   "mimetype": "text/x-python",
   "name": "python",
   "nbconvert_exporter": "python",
   "pygments_lexer": "ipython3",
   "version": "3.12.6"
  }
 },
 "nbformat": 4,
 "nbformat_minor": 2
}
