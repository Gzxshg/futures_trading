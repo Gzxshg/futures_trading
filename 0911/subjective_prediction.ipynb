{
 "cells": [
  {
   "cell_type": "code",
   "execution_count": 1,
   "metadata": {},
   "outputs": [],
   "source": [
    "import datetime\n",
    "import pandas as pd\n",
    "import numpy as np"
   ]
  },
  {
   "cell_type": "code",
   "execution_count": 2,
   "metadata": {},
   "outputs": [],
   "source": [
    "data=[['rb2501','2024-04-09',-1],\n",
    "      ['rb2501','2024-04-24',1],\n",
    "      ['rb2501','2024-05-15',1],\n",
    "      ['rb2501','2024-05-29',1],\n",
    "      ['rb2501','2024-06-07',1],\n",
    "      ['rb2501','2024-06-19',-1],\n",
    "      ['rb2501','2024-07-16',-1],\n",
    "      ['rb2501','2024-07-31',-1]\n",
    "      ]\n",
    "df=pd.DataFrame(data,columns=['order_book_id','datetime','direction'])\n",
    "sub_pre_data=df.to_csv('subjective_prediction.csv',index=True)"
   ]
  }
 ],
 "metadata": {
  "kernelspec": {
   "display_name": "Python 3",
   "language": "python",
   "name": "python3"
  },
  "language_info": {
   "codemirror_mode": {
    "name": "ipython",
    "version": 3
   },
   "file_extension": ".py",
   "mimetype": "text/x-python",
   "name": "python",
   "nbconvert_exporter": "python",
   "pygments_lexer": "ipython3",
   "version": "3.9.5"
  }
 },
 "nbformat": 4,
 "nbformat_minor": 2
}
